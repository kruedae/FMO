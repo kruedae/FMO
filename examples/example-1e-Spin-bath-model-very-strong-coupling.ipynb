{
 "cells": [
  {
   "cell_type": "markdown",
   "metadata": {},
   "source": [
    "# Example 1e: Spin-bath model (very strong coupling)\n",
    "\n",
    "### Introduction"
   ]
  },
  {
   "cell_type": "markdown",
   "metadata": {},
   "source": [
    "The HEOM method solves the dynamics and steady state of a system and its environment, the latter of which is encoded in a set of auxiliary density matrices.\n",
    "\n",
    "In this example we show the evolution of a single two-level system in contact with a single Bosonic environment.  The properties of the system are encoded in Hamiltonian, and a coupling operator which describes how it is coupled to the environment.\n",
    "\n",
    "The Bosonic environment is implicitly assumed to obey a particular Hamiltonian (see paper), the parameters of which are encoded in the spectral density, and subsequently the free-bath correlation functions.\n",
    "\n",
    "In the example below we show how to model the overdamped Drude-Lorentz Spectral Density, commonly used with the HEOM. We show how to do the Matsubara and Pade analytical decompositions, as well as how to fit the latter with a finite set of approximate exponentials.  \n",
    "\n",
    "### Drude-Lorentz spectral density\n",
    "The Drude-Lorentz spectral density is:\n",
    "\n",
    "$$J(\\omega)=\\omega \\frac{2\\lambda\\gamma}{{\\gamma}^2 + \\omega^2}$$\n",
    "\n",
    "where $\\lambda$ scales the coupling strength, and $\\gamma$ is the cut-off frequency.\n",
    "\n",
    "With the HEOM we must use an exponential decomposition:\n",
    "\n",
    "\\begin{equation*}\n",
    "C(t)=\\sum_{k=0}^{k=\\infty} c_k e^{-\\nu_k t}\n",
    "\\end{equation*}\n",
    "\n",
    "The Matsubara decomposition of the Drude-Lorentz spectral density is given by:\n",
    "\n",
    "\\begin{equation*}\n",
    "    \\nu_k = \\begin{cases}\n",
    "               \\gamma               & k = 0\\\\\n",
    "               {2 \\pi k} / {\\beta \\hbar}  & k \\geq 1\\\\\n",
    "           \\end{cases}\n",
    "\\end{equation*}\n",
    "\n",
    "\\begin{equation*}\n",
    "    c_k = \\begin{cases}\n",
    "               \\lambda \\gamma (\\cot(\\beta \\gamma / 2) - i) / \\hbar               & k = 0\\\\\n",
    "               4 \\lambda \\gamma \\nu_k / \\{(nu_k^2 - \\gamma^2)\\beta \\hbar^2 \\}    & k \\geq 1\\\\\n",
    "           \\end{cases}\n",
    "\\end{equation*}\n",
    "\n"
   ]
  },
  {
   "cell_type": "code",
   "execution_count": 1,
   "metadata": {},
   "outputs": [
    {
     "name": "stdout",
     "output_type": "stream",
     "text": [
      "The history saving thread hit an unexpected error (DatabaseError('database disk image is malformed')).History will not be written to the database.\n",
      "Populating the interactive namespace from numpy and matplotlib\n"
     ]
    }
   ],
   "source": [
    "%pylab inline\n",
    "from qutip import *"
   ]
  },
  {
   "cell_type": "code",
   "execution_count": 2,
   "metadata": {},
   "outputs": [],
   "source": [
    "from qutip.ipynbtools import HTMLProgressBar"
   ]
  },
  {
   "cell_type": "code",
   "execution_count": 3,
   "metadata": {},
   "outputs": [],
   "source": [
    "%load_ext autoreload\n",
    "%autoreload 2"
   ]
  },
  {
   "cell_type": "code",
   "execution_count": 4,
   "metadata": {},
   "outputs": [],
   "source": [
    "\n",
    "from bofin.heom import BosonicHEOMSolver"
   ]
  },
  {
   "cell_type": "code",
   "execution_count": 5,
   "metadata": {},
   "outputs": [],
   "source": [
    "# Defining the system Hamiltonian\n",
    "eps = .0     # Energy of the 2-level system.\n",
    "Del = .2    # Tunnelling term\n",
    "Hsys = 0.5 * eps * sigmaz() + 0.5 * Del* sigmax()"
   ]
  },
  {
   "cell_type": "code",
   "execution_count": 6,
   "metadata": {},
   "outputs": [],
   "source": [
    "# System-bath coupling (Drude-Lorentz spectral density)\n",
    "Q = sigmaz() # coupling operator\n",
    "\n",
    "#tlist = np.linspace(0, 600, 600)\n",
    "\n",
    "tlist = np.linspace(0, pi/Del, 600)\n",
    "#Bath properties: (see Q. Shi, L. Chen, G. Nan, R.-X. Xu,  and Y. Yan, The Journal of chemical physics 130, 084105 (2009))\n",
    "gamma = 1. # cut off frequency\n",
    "lam = 2.5 # coupling strength\n",
    "T = 1. # in units where Boltzmann factor is 1\n",
    "beta = 1./T\n",
    "#HEOM parameters\n",
    "Nk = 1 # number of exponentials in approximation of the the spectral density\n",
    "NC = 13 # cut off parameter for the bath"
   ]
  },
  {
   "cell_type": "code",
   "execution_count": 8,
   "metadata": {},
   "outputs": [
    {
     "data": {
      "text/plain": [
       "Text(0, 0.5, 'J')"
      ]
     },
     "execution_count": 8,
     "metadata": {},
     "output_type": "execute_result"
    },
    {
     "data": {
      "image/png": "[encoded data removed]",
      "text/plain": [
       "<Figure size 576x576 with 1 Axes>"
      ]
     },
     "metadata": {
      "needs_background": "light"
     },
     "output_type": "display_data"
    }
   ],
   "source": [
    "###############################################\n",
    "\n",
    "# Plot the spectral density\n",
    "\n",
    "def cot(x):\n",
    "    return 1./np.tan(x)\n",
    "\n",
    "wlist = np.linspace(0, 5, 1000)\n",
    "pref = 1.\n",
    "\n",
    "J = [w * 2 * lam * gamma / ((gamma**2 + w**2)) for w in wlist]\n",
    "\n",
    "# Plot the results\n",
    "fig, axes = plt.subplots(1, 1, sharex=True, figsize=(8,8))\n",
    "axes.plot(wlist, J, 'r', linewidth=2)\n",
    "axes.set_xlabel(r'$\\omega$', fontsize=28)\n",
    "axes.set_ylabel(r'J', fontsize=28)\n",
    "\n"
   ]
  },
  {
   "cell_type": "code",
   "execution_count": 9,
   "metadata": {},
   "outputs": [
    {
     "name": "stdout",
     "output_type": "stream",
     "text": [
      "[(4.57621930428113+0j), (1.6329115640316914+0j)]\n",
      "[(-2.5+0j)]\n",
      "[(1+0j), (6.283185307179586+0j)]\n",
      "[(1+0j)]\n"
     ]
    }
   ],
   "source": [
    "#Define correlation functions with Matsubara Decomposition with Nk Matsubara terms\n",
    "def c(t):\n",
    "    c_temp =[]\n",
    "    c_temp.append(pref * lam * gamma * (-1.0j + cot(gamma / (2 * T))) * np.exp(-gamma * t))\n",
    "    for k in range(1,15000):\n",
    "        vk = 2 * np.pi * k * T\n",
    "        c_temp.append((pref * 4 * lam * gamma * T * vk / (vk**2 - gamma**2))  * np.exp(- vk * t) ) \n",
    "    return c_temp\n",
    "\n",
    "ckAR = [pref * lam * gamma * (cot(gamma / (2 * T))) + 0.j]\n",
    "ckAR.extend([(pref * 4 * lam * gamma * T *  2 * np.pi * k * T / (( 2 * np.pi * k * T)**2 - gamma**2))+0.j for k in range(1,Nk+1)])\n",
    "\n",
    "vkAR = [gamma+0.j]\n",
    "vkAR.extend([2 * np.pi * k * T + 0.j for k in range(1,Nk+1)])\n",
    "\n",
    "ckAI = [pref * lam * gamma * (-1.0) + 0.j]\n",
    "\n",
    "vkAI = [gamma+0.j]\n",
    "\n",
    "print(ckAR)\n",
    "print(ckAI)\n",
    "\n",
    "print(vkAR)\n",
    "print(vkAI)\n",
    "\n",
    "\n"
   ]
  },
  {
   "cell_type": "code",
   "execution_count": 10,
   "metadata": {},
   "outputs": [],
   "source": [
    "def Jw(w):\n",
    "    Jt  = w * 2 * lam * gamma/ ((gamma**2 + w**2)) \n",
    "    return Jt\n",
    "\n"
   ]
  },
  {
   "cell_type": "code",
   "execution_count": 11,
   "metadata": {},
   "outputs": [],
   "source": [
    "#Collate large number of matsubara terms for a comparison\n",
    "anamax = 15000\n",
    "def c(t,mats):\n",
    "    c_temp =[]\n",
    "    c_temp.append(pref * lam * gamma * (-1.0j + cot(gamma / (2 * T))) * np.exp(-gamma * t))\n",
    "    for k in range(1,mats):\n",
    "        vk = 2 * np.pi * k * T\n",
    "        c_temp.append((pref * 4 * lam * gamma * T * vk / (vk**2 - gamma**2))  * np.exp(- vk * t) ) \n",
    "    return c_temp\n",
    "\n",
    "# Reals parts\n",
    "corrRana = [np.real(sum(c(t,anamax))) for t in tlist]\n",
    "# Imaginary parts\n",
    "corrIana = [np.imag(sum(c(t,1))) for t in tlist] #only 1 imaginary term, no need to sum again\n",
    "cppL = [sum(c(t,Nk)) for t in tlist] "
   ]
  },
  {
   "cell_type": "code",
   "execution_count": 12,
   "metadata": {},
   "outputs": [
    {
     "name": "stdout",
     "output_type": "stream",
     "text": [
      "[Quantum object: dims = [[2], [2]], shape = (2, 2), type = oper, isherm = True\n",
      "Qobj data =\n",
      "[[ 1.  0.]\n",
      " [ 0. -1.]], Quantum object: dims = [[2], [2]], shape = (2, 2), type = oper, isherm = True\n",
      "Qobj data =\n",
      "[[ 1.  0.]\n",
      " [ 0. -1.]], Quantum object: dims = [[2], [2]], shape = (2, 2), type = oper, isherm = True\n",
      "Qobj data =\n",
      "[[ 1.  0.]\n",
      " [ 0. -1.]]]\n"
     ]
    }
   ],
   "source": [
    "#Construct RHS with specifief Nk Matsubara terms\n",
    "NR = len(ckAR)\n",
    "NI = len(ckAI)\n",
    "Q2 = [Q for kk in range(NR+NI)]\n",
    "print(Q2)\n",
    "options = Options(nsteps=15000, store_states=True, rtol=1e-14, atol=1e-14)\n",
    "\n",
    "HEOMMats = BosonicHEOMSolver(Hsys, Q2, ckAR, ckAI, vkAR, vkAI, NC, options=options)\n"
   ]
  },
  {
   "cell_type": "code",
   "execution_count": 13,
   "metadata": {},
   "outputs": [],
   "source": [
    "#Solve ODE for time steps in tlist\n",
    "\n",
    "# Initial state of the system.\n",
    "rho0 = basis(2,0) * basis(2,0).dag()   \n",
    "\n",
    "resultMats = HEOMMats.run(rho0, tlist)\n"
   ]
  },
  {
   "cell_type": "code",
   "execution_count": 14,
   "metadata": {},
   "outputs": [],
   "source": [
    "# Define some operators with which we will measure the system\n",
    "# 1,1 element of density matrix - corresonding to groundstate\n",
    "P11p=basis(2,0) * basis(2,0).dag()\n",
    "P22p=basis(2,1) * basis(2,1).dag()\n",
    "# 1,2 element of density matrix  - corresonding to coherence\n",
    "P12p=basis(2,0) * basis(2,1).dag()\n",
    "# Calculate expectation values in the bases\n",
    "P11exp = expect(resultMats.states, P11p)\n",
    "P22exp = expect(resultMats.states, P22p)\n",
    "P12exp = expect(resultMats.states, P12p)"
   ]
  },
  {
   "cell_type": "code",
   "execution_count": 15,
   "metadata": {},
   "outputs": [
    {
     "name": "stdout",
     "output_type": "stream",
     "text": [
      "[Quantum object: dims = [[2], [2]], shape = (2, 2), type = oper, isherm = True\n",
      "Qobj data =\n",
      "[[ 1.  0.]\n",
      " [ 0. -1.]], Quantum object: dims = [[2], [2]], shape = (2, 2), type = oper, isherm = True\n",
      "Qobj data =\n",
      "[[ 1.  0.]\n",
      " [ 0. -1.]], Quantum object: dims = [[2], [2]], shape = (2, 2), type = oper, isherm = True\n",
      "Qobj data =\n",
      "[[ 1.  0.]\n",
      " [ 0. -1.]]]\n"
     ]
    }
   ],
   "source": [
    "#do version with tanimura terminator\n",
    "\n",
    "op = -2*spre(Q)*spost(Q.dag()) + spre(Q.dag()*Q) + spost(Q.dag()*Q)\n",
    "\n",
    "approx_factr = ((2 * lam / (beta * gamma)) - 1j*lam) \n",
    "\n",
    "approx_factr -=  lam * gamma * (-1.0j + cot(gamma / (2 * T)))/gamma\n",
    "for k in range(1,Nk+1):\n",
    "    vk = 2 * np.pi * k * T\n",
    "    #c_temp.append((pref * 4 * lam * gamma * T * vk / (vk**2 - gamma**2))  * np.exp(- vk * t) ) \n",
    "    approx_factr -= ((pref * 4 * lam * gamma * T * vk / (vk**2 - gamma**2))/ vk)\n",
    "    #approx_factr -= (c[k] / nu[k])\n",
    "L_bnd = -approx_factr*op\n",
    "\n",
    "Ltot = -1.0j*(spre(Hsys)-spost(Hsys)) + L_bnd\n",
    "Ltot = liouvillian(Hsys) + L_bnd\n",
    "\n",
    "NR = len(ckAR)\n",
    "NI = len(ckAI)\n",
    "Q2 = [Q for kk in range(NR+NI)]\n",
    "print(Q2)\n",
    "options = Options(nsteps=15000, store_states=True, rtol=1e-14, atol=1e-14)\n",
    "\n",
    "HEOMMatsT = BosonicHEOMSolver(Ltot, Q2, ckAR, ckAI, vkAR, vkAI, NC, options=options)\n",
    "# Initial state of the system.\n",
    "rho0 = basis(2,0) * basis(2,0).dag()   \n",
    "\n",
    "resultMatsT = HEOMMatsT.run(rho0, tlist)\n"
   ]
  },
  {
   "cell_type": "code",
   "execution_count": 16,
   "metadata": {},
   "outputs": [],
   "source": [
    "# Define some operators with which we will measure the system\n",
    "# 1,1 element of density matrix - corresonding to groundstate\n",
    "P11p=basis(2,0) * basis(2,0).dag()\n",
    "P22p=basis(2,1) * basis(2,1).dag()\n",
    "# 1,2 element of density matrix  - corresonding to coherence\n",
    "P12p=basis(2,0) * basis(2,1).dag()\n",
    "# Calculate expectation values in the bases\n",
    "P11expT = expect(resultMatsT.states, P11p)\n",
    "P22expT = expect(resultMatsT.states, P22p)\n",
    "P12expT = expect(resultMatsT.states, P12p)"
   ]
  },
  {
   "cell_type": "code",
   "execution_count": 17,
   "metadata": {},
   "outputs": [
    {
     "data": {
      "text/plain": [
       "<matplotlib.legend.Legend at 0x7ff1084c3e80>"
      ]
     },
     "execution_count": 17,
     "metadata": {},
     "output_type": "execute_result"
    },
    {
     "data": {
      "image/png": "[encoded data removed]",
      "text/plain": [
       "<Figure size 576x576 with 1 Axes>"
      ]
     },
     "metadata": {
      "needs_background": "light"
     },
     "output_type": "display_data"
    }
   ],
   "source": [
    "\n",
    "# Plot the results\n",
    "fig, axes = plt.subplots(1, 1, sharex=True, figsize=(8,8))\n",
    "\n",
    "axes.plot(tlist, np.real(P11exp), 'b', linewidth=2, label=\"P11\")\n",
    "\n",
    "axes.plot(tlist, np.real(P11expT), 'b--', linewidth=2, label=\"P11\")\n",
    "axes.set_xlabel(r't', fontsize=28)\n",
    "axes.legend(loc=0, fontsize=12)"
   ]
  },
  {
   "cell_type": "code",
   "execution_count": 18,
   "metadata": {},
   "outputs": [
    {
     "name": "stdout",
     "output_type": "stream",
     "text": [
      "[0, 2.5]\n"
     ]
    },
    {
     "data": {
      "text/plain": [
       "<matplotlib.legend.Legend at 0x7ff10897e040>"
      ]
     },
     "execution_count": 18,
     "metadata": {},
     "output_type": "execute_result"
    },
    {
     "data": {
      "image/png": "[encoded data removed]",
      "text/plain": [
       "<Figure size 864x504 with 1 Axes>"
      ]
     },
     "metadata": {
      "needs_background": "light"
     },
     "output_type": "display_data"
    },
    {
     "data": {
      "image/png": "[encoded data removed]",
      "text/plain": [
       "<Figure size 864x504 with 1 Axes>"
      ]
     },
     "metadata": {
      "needs_background": "light"
     },
     "output_type": "display_data"
    }
   ],
   "source": [
    "#as a comparison, this is pade\n",
    "\n",
    "\n",
    "lmax = 1\n",
    "\n",
    "\n",
    "\n",
    "def deltafun(j,k):\n",
    "    if j==k: \n",
    "        return 1.\n",
    "    else:\n",
    "        return 0.\n",
    "\n",
    "\n",
    "\n",
    "\n",
    "\n",
    "Alpha =np.zeros((2*lmax,2*lmax))\n",
    "for j in range(2*lmax):\n",
    "    for k in range(2*lmax):\n",
    "        #Alpha[j][k] = (deltafun(j,k+1)+deltafun(j,k-1))/sqrt((2*(j+1)-1)*(2*(k+1)-1)) #fermi\n",
    "        Alpha[j][k] = (deltafun(j,k+1)+deltafun(j,k-1))/sqrt((2*(j+1)+1)*(2*(k+1)+1)) #bose\n",
    "        \n",
    "eigvalsA=eigvalsh(Alpha)  \n",
    "\n",
    "eps = []\n",
    "for val in  eigvalsA[0:lmax]:\n",
    "    #print(-2/val)\n",
    "    eps.append(-2/val)\n",
    "    \n",
    "\n",
    "AlphaP =np.zeros((2*lmax-1,2*lmax-1))\n",
    "for j in range(2*lmax-1):\n",
    "    for k in range(2*lmax-1):\n",
    "        #AlphaP[j][k] = (deltafun(j,k+1)+deltafun(j,k-1))/sqrt((2*(j+1)+1)*(2*(k+1)+1)) #fermi\n",
    "        \n",
    "        AlphaP[j][k] = (deltafun(j,k+1)+deltafun(j,k-1))/sqrt((2*(j+1)+3)*(2*(k+1)+3)) #Bos: This is +3 because +1 (bose) + 2*(+1)(from bm+1)\n",
    "        \n",
    "eigvalsAP=eigvalsh(AlphaP)    \n",
    "\n",
    "\n",
    "chi = []\n",
    "for val in  eigvalsAP[0:lmax-1]:\n",
    "    #print(-2/val)\n",
    "    chi.append(-2/val)\n",
    "\n",
    "    \n",
    "#eta_list=[0.5*lmax*(2*(lmax + 1) - 1)*( \n",
    "#  np.prod([chi[k]**2 - eps[j]**2 for k in range(lmax - 1)])/\n",
    "#    np.prod([eps[k]**2 - eps[j]**2 +deltafun(j,k) for k in range(lmax)])) \n",
    "#          for j in range(lmax)]\n",
    "eta_list = []\n",
    "prefactor = 0.5*lmax*(2*(lmax + 1) + 1)\n",
    "\n",
    "for j in range(lmax):\n",
    "    term = prefactor\n",
    "    for k1 in range(lmax - 1):\n",
    "        term *= (chi[k1]**2 - eps[j]**2)/(eps[k1]**2 - eps[j]**2 + deltafun(j,k1))        \n",
    "    #term2 = 1\n",
    "    for k2 in range(lmax-1,lmax):\n",
    "        term /= (eps[k2]**2 - eps[j]**2 + deltafun(j,k2))\n",
    "        #print(term2)\n",
    "        \n",
    "    eta_list.append(term)\n",
    "\n",
    "#kappa = [0,1,1,1.56,14.44]\n",
    "kappa = [0]+eta_list\n",
    "print(kappa)\n",
    "#epsilon = [0,1*pi,1*3*pi,1.06*5*pi,2.11*7*pi]\n",
    "#print([0,1*pi,1*3*pi,1.06*5*pi,2.11*7*pi])\n",
    "epsilon = [0]+eps\n",
    "\n",
    "\n",
    "\n",
    "beta = 1/T\n",
    "\n",
    "def f_approx(x):\n",
    "    f = 0.5\n",
    "    for l in range(1,lmax+1):\n",
    "        f= f - 2*kappa[l]*x/(x**2+epsilon[l]**2)\n",
    "    return f\n",
    "\n",
    "def f(x):\n",
    "    kB=1.\n",
    "    return 1/(1-exp(-x)) #this is n(w)+1  btw! (for bosons)\n",
    "\n",
    "\n",
    "def C(tlist):\n",
    "    eta_list = []\n",
    "    gamma_list  =[]\n",
    "    \n",
    "    #l = 0\n",
    "    #eta_0 = 0.5*lam*gamma*f(1.0j*beta*gamma)\n",
    "    eta_0 =lam*gamma*(1.0/np.tan(gamma*beta/2.0) - 1.0j)\n",
    "    gamma_0 = gamma\n",
    "    eta_list.append(eta_0)\n",
    "    gamma_list.append(gamma_0)\n",
    "    if lmax>0:\n",
    "        for l in range(1,lmax+1):\n",
    "            eta_list.append((kappa[l]/beta)*4*lam*gamma*(epsilon[l]/beta)/((epsilon[l]**2/beta**2)-gamma**2))\n",
    "            gamma_list.append(epsilon[l]/beta)\n",
    "            \n",
    "     \n",
    "    c_tot = []\n",
    "    for t in tlist:\n",
    "        c_tot.append(sum([eta_list[l]*exp(-gamma_list[l]*t) for l in range(lmax+1)]))\n",
    "    return c_tot, eta_list, gamma_list\n",
    "\n",
    "\n",
    "cppLP,etapLP,gampLP = C(tlist)\n",
    "\n",
    "\n",
    "fig, ax1 = plt.subplots(figsize=(12, 7))\n",
    "#print(gam_list)\n",
    "ax1.plot(tlist,real(cppLP), color=\"b\", linewidth=3, label= r\"real pade 2\")\n",
    "#ax1.plot(tlist,imag(cppL), color=\"r\", linewidth=3, label= r\"imag alt\")\n",
    "ax1.plot(tlist,corrRana, \"r--\", linewidth=3, label= r\"real mats 15000\")\n",
    "ax1.plot(tlist,real(cppL), \"g--\", linewidth=3, label= r\"real mats 2\")\n",
    "#ax1.plot(tlist,corrIana, \"r--\", linewidth=3, label= r\"imag ana\")\n",
    "\n",
    "\n",
    "\n",
    "ax1.set_xlabel(\"t\")\n",
    "ax1.set_ylabel(r\"$C$\")\n",
    "ax1.legend()\n",
    "\n",
    "\n",
    "fig, ax1 = plt.subplots(figsize=(12, 7))\n",
    "\n",
    "ax1.plot(tlist,real(cppLP)-corrRana, color=\"b\", linewidth=3, label= r\"pade error\")\n",
    "ax1.plot(tlist,real(cppL)-corrRana, \"r--\", linewidth=3, label= r\"mats error\")\n",
    "\n",
    "ax1.set_xlabel(\"t\")\n",
    "ax1.set_ylabel(r\"$C$\")\n",
    "ax1.legend()\n"
   ]
  },
  {
   "cell_type": "code",
   "execution_count": 19,
   "metadata": {},
   "outputs": [],
   "source": [
    "\n",
    "ckAR = [real(eta) +0j for eta in etapLP]\n",
    "ckAI = [imag(etapLP[0]) + 0j]"
   ]
  },
  {
   "cell_type": "code",
   "execution_count": 20,
   "metadata": {},
   "outputs": [],
   "source": [
    "vkAR = [gam +0j for gam in gampLP]\n",
    "vkAI = [gampLP[0] + 0j]\n"
   ]
  },
  {
   "cell_type": "code",
   "execution_count": 21,
   "metadata": {},
   "outputs": [
    {
     "data": {
      "text/plain": [
       "[(1+0j), (7.745966692414835+0j)]"
      ]
     },
     "execution_count": 21,
     "metadata": {},
     "output_type": "execute_result"
    }
   ],
   "source": [
    "vkAR"
   ]
  },
  {
   "cell_type": "code",
   "execution_count": 22,
   "metadata": {},
   "outputs": [
    {
     "name": "stdout",
     "output_type": "stream",
     "text": [
      "[Quantum object: dims = [[2], [2]], shape = (2, 2), type = oper, isherm = True\n",
      "Qobj data =\n",
      "[[ 1.  0.]\n",
      " [ 0. -1.]], Quantum object: dims = [[2], [2]], shape = (2, 2), type = oper, isherm = True\n",
      "Qobj data =\n",
      "[[ 1.  0.]\n",
      " [ 0. -1.]], Quantum object: dims = [[2], [2]], shape = (2, 2), type = oper, isherm = True\n",
      "Qobj data =\n",
      "[[ 1.  0.]\n",
      " [ 0. -1.]]]\n"
     ]
    }
   ],
   "source": [
    "\n",
    "\n",
    "NR = len(ckAR)\n",
    "NI = len(ckAI)\n",
    "Q2 = [Q for kk in range(NR+NI)]\n",
    "print(Q2)\n",
    "options = Options(nsteps=15000, store_states=True, rtol=1e-14, atol=1e-14)\n",
    "\n",
    "HEOMPade = BosonicHEOMSolver(Hsys, Q2, ckAR, ckAI, vkAR, vkAI, NC, options=options)\n",
    "\n",
    "# Initial state of the system.\n",
    "rho0 = basis(2,0) * basis(2,0).dag()   \n",
    "# Times to record state\n",
    "#tlist = np.linspace(0, 40, 600)\n",
    "\n",
    "resultPade = HEOMPade.run(rho0, tlist)"
   ]
  },
  {
   "cell_type": "code",
   "execution_count": 23,
   "metadata": {},
   "outputs": [
    {
     "data": {
      "text/plain": [
       "<matplotlib.legend.Legend at 0x7ff1083fee80>"
      ]
     },
     "execution_count": 23,
     "metadata": {},
     "output_type": "execute_result"
    },
    {
     "data": {
      "image/png": "[encoded data removed]",
      "text/plain": [
       "<Figure size 576x576 with 1 Axes>"
      ]
     },
     "metadata": {
      "needs_background": "light"
     },
     "output_type": "display_data"
    }
   ],
   "source": [
    "\n",
    "# Define some operators with which we will measure the system\n",
    "# 1,1 element of density matrix - corresonding to groundstate\n",
    "P11p=basis(2,0) * basis(2,0).dag()\n",
    "P22p=basis(2,1) * basis(2,1).dag()\n",
    "# 1,2 element of density matrix  - corresonding to coherence\n",
    "P12p=basis(2,0) * basis(2,1).dag()\n",
    "# Calculate expectation values in the bases\n",
    "P11expP = expect(resultPade.states, P11p)\n",
    "P22expP = expect(resultPade.states, P22p)\n",
    "P12expP = expect(resultPade.states, P12p)\n",
    "\n",
    "# Plot the results\n",
    "fig, axes = plt.subplots(1, 1, sharex=True, figsize=(8,8))\n",
    "#axes.plot(tlist, np.real(P11exp)+ np.real(P22exp), 'b', linewidth=2, label=\"P11\")\n",
    "axes.plot(tlist, np.real(P11exp), 'b', linewidth=2, label=\"P11 mats\")\n",
    "axes.plot(tlist, np.real(P11expT), 'r', linewidth=2, label=\"P11 mats++term\")\n",
    "\n",
    "axes.plot(tlist, np.real(P11expP), 'b--', linewidth=2, label=\"P11 pade\")\n",
    "#axes.plot(tlist, np.real(P12exp), 'r', linewidth=2, label=\"P12 mats\")\n",
    "#axes.plot(tlist, np.real(P12expP), 'r--', linewidth=2, label=\"P12 pade\")\n",
    "axes.set_xlabel(r't', fontsize=28)\n",
    "axes.legend(loc=0, fontsize=12)"
   ]
  },
  {
   "cell_type": "markdown",
   "metadata": {},
   "source": [
    "### Do fitting of Matsubara expansion\n"
   ]
  },
  {
   "cell_type": "code",
   "execution_count": 27,
   "metadata": {},
   "outputs": [],
   "source": [
    "tlist2= linspace(0,6,10000)\n",
    "\n",
    "lmaxmats = 15000\n",
    "\n",
    "def c(t,anamax):\n",
    "\n",
    "    c_temp = (pref * lam * gamma * (-1.0j + cot(gamma / (2 * T))) * np.exp(-gamma * t))\n",
    "    for k in range(1, anamax):\n",
    "        vk = 2 * np.pi * k * T\n",
    "        c_temp += ((pref * 4 * lam * gamma * T * vk / (vk**2 - gamma**2))  * np.exp(- vk * t) ) \n",
    "        \n",
    "    \n",
    "    return c_temp\n",
    "\n",
    "# Reals parts\n",
    "corrRana = [np.real(c(t,lmaxmats)) for t in tlist2]\n",
    "# Imaginary parts\n",
    "corrIana = [np.imag((pref * lam * gamma * (-1.0j + cot(gamma / (2 * T))) * np.exp(-gamma * t))) for t in tlist2]\n"
   ]
  },
  {
   "cell_type": "code",
   "execution_count": 28,
   "metadata": {},
   "outputs": [
    {
     "name": "stdout",
     "output_type": "stream",
     "text": [
      "1\n",
      "2\n",
      "3\n"
     ]
    },
    {
     "data": {
      "image/png": "[encoded data removed]",
      "text/plain": [
       "<Figure size 432x288 with 1 Axes>"
      ]
     },
     "metadata": {
      "needs_background": "light"
     },
     "output_type": "display_data"
    },
    {
     "data": {
      "image/png": "[encoded data removed]",
      "text/plain": [
       "<Figure size 432x288 with 1 Axes>"
      ]
     },
     "metadata": {
      "needs_background": "light"
     },
     "output_type": "display_data"
    },
    {
     "data": {
      "image/png": "[encoded data removed]",
      "text/plain": [
       "<Figure size 432x288 with 1 Axes>"
      ]
     },
     "metadata": {
      "needs_background": "light"
     },
     "output_type": "display_data"
    },
    {
     "name": "stdout",
     "output_type": "stream",
     "text": [
      "1\n"
     ]
    },
    {
     "data": {
      "image/png": "[encoded data removed]",
      "text/plain": [
       "<Figure size 432x288 with 1 Axes>"
      ]
     },
     "metadata": {
      "needs_background": "light"
     },
     "output_type": "display_data"
    }
   ],
   "source": [
    "\n",
    "\n",
    "from scipy.optimize import curve_fit\n",
    "def wrapper_fit_func(x, N, *args):\n",
    "    a, b = list(args[0][:N]), list(args[0][N:2*N])\n",
    "    # print(\"debug\")\n",
    "    return fit_func(x, a, b, N)\n",
    "\n",
    "# actual fitting function\n",
    "def fit_func(x, a, b, N):\n",
    "    tot = 0\n",
    "    for i in range(N):\n",
    "        # print(i)\n",
    "        tot += a[i]*np.exp(b[i]*x)\n",
    "    return tot\n",
    "\n",
    "\n",
    "def fitter(ans, tlist, k):\n",
    "    # the actual computing of fit\n",
    "    popt = []\n",
    "    pcov = [] \n",
    "    # tries to fit for k exponents\n",
    "    for i in range(k):\n",
    "        params_0 = [0]*(2*(i+1))\n",
    "        upper_a = abs(max(ans, key = abs))*10\n",
    "        #sets initial guess\n",
    "        guess = []\n",
    "        aguess = [ans[0]]*(i+1)#[max(ans)]*(i+1)\n",
    "        bguess = [0]*(i+1)\n",
    "        guess.extend(aguess)\n",
    "        guess.extend(bguess)\n",
    "        # sets bounds\n",
    "        # a's = anything , b's negative\n",
    "        # sets lower bound\n",
    "        b_lower = []\n",
    "        alower = [-upper_a]*(i+1)\n",
    "        blower = [-np.inf]*(i+1)\n",
    "        b_lower.extend(alower)\n",
    "        b_lower.extend(blower)\n",
    "        # sets higher bound\n",
    "        b_higher = []\n",
    "        ahigher = [upper_a]*(i+1)\n",
    "        bhigher = [0]*(i+1)\n",
    "        b_higher.extend(ahigher)\n",
    "        b_higher.extend(bhigher)\n",
    "        param_bounds = (b_lower, b_higher)\n",
    "        p1, p2 = curve_fit(lambda x, *params_0: wrapper_fit_func(x, i+1, \\\n",
    "            params_0), tlist, ans, p0=guess, sigma=[0.01 for t in tlist2], bounds = param_bounds, maxfev = 1e8)\n",
    "        popt.append(p1)\n",
    "        pcov.append(p2)\n",
    "        print(i+1)\n",
    "    return popt\n",
    "# print(popt)\n",
    "\n",
    "# function that evaluates values with fitted params at\n",
    "# given inputs\n",
    "def checker(tlist, vals):\n",
    "    y = []\n",
    "    for i in tlist:\n",
    "        # print(i)\n",
    "        y.append(wrapper_fit_func(i, int(len(vals)/2), vals))\n",
    "    return y\n",
    "\n",
    "k = 3\n",
    "popt1 = fitter(corrRana, tlist2, k)\n",
    "for i in range(k):\n",
    "    y = checker(tlist2, popt1[i])\n",
    "    plt.plot(tlist2, corrRana, tlist2, y)\n",
    "    plt.show()\n",
    "\n",
    "k1 = 1\n",
    "popt2 = fitter(corrIana, tlist2, k1)\n",
    "for i in range(k1):\n",
    "    y = checker(tlist2, popt2[i])\n",
    "    plt.plot(tlist2, corrIana, tlist2, y)\n",
    "    plt.show()  \n"
   ]
  },
  {
   "cell_type": "code",
   "execution_count": 29,
   "metadata": {},
   "outputs": [],
   "source": [
    "ckAR1 = list(popt1[k-1])[:len(list(popt1[k-1]))//2]\n",
    "ckAR = [x+0j for x in ckAR1]\n",
    "ckAI1 = list(popt2[k1-1])[:len(list(popt2[k1-1]))//2]\n",
    "#minus?wtfiforgotagain\n",
    "ckAI = [x+0j for x in ckAI1]\n",
    "# vkAR, vkAI\n",
    "vkAR1 = list(popt1[k-1])[len(list(popt1[k-1]))//2:]\n",
    "vkAR = [-x+0j for x in vkAR1]\n",
    "vkAI1 = list(popt2[k1-1])[len(list(popt2[k1-1]))//2:]\n",
    "vkAI = [-x+0j for x in vkAI1]\n",
    "# NC, NR, NI\n",
    "# print(np.array(H).shape, np.array(Q).shape)\n",
    "NC = 13\n",
    "NR = len(ckAR)\n",
    "NI = len(ckAI)\n",
    "\n",
    "options = Options(nsteps=15000, store_states=True, rtol=1e-14, atol=1e-14)\n"
   ]
  },
  {
   "cell_type": "code",
   "execution_count": 30,
   "metadata": {},
   "outputs": [
    {
     "name": "stdout",
     "output_type": "stream",
     "text": [
      "[(-2.5+0j)]\n",
      "[(1+0j)]\n"
     ]
    }
   ],
   "source": [
    "#overwrite imaginary fit with analytical value jsut in case\n",
    "\n",
    "ckAI = [pref * lam * gamma * (-1.0) + 0.j]\n",
    "\n",
    "vkAI = [gamma+0.j]\n",
    "\n",
    "print(ckAI)\n",
    "print(vkAI)"
   ]
  },
  {
   "cell_type": "code",
   "execution_count": 31,
   "metadata": {},
   "outputs": [
    {
     "name": "stdout",
     "output_type": "stream",
     "text": [
      "[Quantum object: dims = [[2], [2]], shape = (2, 2), type = oper, isherm = True\n",
      "Qobj data =\n",
      "[[ 1.  0.]\n",
      " [ 0. -1.]], Quantum object: dims = [[2], [2]], shape = (2, 2), type = oper, isherm = True\n",
      "Qobj data =\n",
      "[[ 1.  0.]\n",
      " [ 0. -1.]], Quantum object: dims = [[2], [2]], shape = (2, 2), type = oper, isherm = True\n",
      "Qobj data =\n",
      "[[ 1.  0.]\n",
      " [ 0. -1.]], Quantum object: dims = [[2], [2]], shape = (2, 2), type = oper, isherm = True\n",
      "Qobj data =\n",
      "[[ 1.  0.]\n",
      " [ 0. -1.]]]\n"
     ]
    }
   ],
   "source": [
    "\n",
    "\n",
    "\n",
    "NR = len(ckAR)\n",
    "NI = len(ckAI)\n",
    "Q2 = [Q for kk in range(NR+NI)]\n",
    "print(Q2)\n"
   ]
  },
  {
   "cell_type": "code",
   "execution_count": 39,
   "metadata": {},
   "outputs": [
    {
     "name": "stdout",
     "output_type": "stream",
     "text": [
      "177.79557299613953\n"
     ]
    }
   ],
   "source": [
    "\n",
    "# Initial state of the system.\n",
    "rho0 = basis(2,0) * basis(2,0).dag()   \n",
    "# Times to record state\n",
    "#tlist = np.linspace(0, 40, 600)\n",
    "options = Options(nsteps=1500, store_states=True, rtol=1e-12, atol=1e-12) \n",
    "HEOMFit = BosonicHEOMSolver(Hsys, Q2, ckAR, ckAI, vkAR, vkAI, NC, ode_use_mkl = True,options=options)\n",
    "start = time.time()\n",
    "resultFitMKL = HEOMFit.run(rho0, tlist)\n",
    "end = time.time()\n",
    "print(end - start)"
   ]
  },
  {
   "cell_type": "code",
   "execution_count": 40,
   "metadata": {},
   "outputs": [
    {
     "name": "stdout",
     "output_type": "stream",
     "text": [
      "169.33058094978333\n"
     ]
    }
   ],
   "source": [
    "\n",
    "# Initial state of the system.\n",
    "rho0 = basis(2,0) * basis(2,0).dag()   \n",
    "# Times to record state\n",
    "#tlist = np.linspace(0, 40, 600)\n",
    "options = Options(nsteps=1500, store_states=True, rtol=1e-12, atol=1e-12) \n",
    "HEOMFit = BosonicHEOMSolver(Hsys, Q2, ckAR, ckAI, vkAR, vkAI, NC, ode_use_mkl = False,options=options)\n",
    "\n",
    "start = time.time()\n",
    "resultFit = HEOMFit.run(rho0, tlist)\n",
    "end = time.time()\n",
    "print(end - start)"
   ]
  },
  {
   "cell_type": "code",
   "execution_count": 33,
   "metadata": {
    "collapsed": true
   },
   "outputs": [
    {
     "name": "stdout",
     "output_type": "stream",
     "text": [
      "(1.6887426848687916e-05+0j)\n",
      "[Quantum object: dims = [[2], [2]], shape = (2, 2), type = oper, isherm = True\n",
      "Qobj data =\n",
      "[[ 1.  0.]\n",
      " [ 0. -1.]], Quantum object: dims = [[2], [2]], shape = (2, 2), type = oper, isherm = True\n",
      "Qobj data =\n",
      "[[ 1.  0.]\n",
      " [ 0. -1.]], Quantum object: dims = [[2], [2]], shape = (2, 2), type = oper, isherm = True\n",
      "Qobj data =\n",
      "[[ 1.  0.]\n",
      " [ 0. -1.]], Quantum object: dims = [[2], [2]], shape = (2, 2), type = oper, isherm = True\n",
      "Qobj data =\n",
      "[[ 1.  0.]\n",
      " [ 0. -1.]]]\n"
     ]
    },
    {
     "name": "stderr",
     "output_type": "stream",
     "text": [
      "[autoreload of heom_fmotd failed: Traceback (most recent call last):\n",
      "  File \"/home/neill/anaconda3/lib/python3.7/site-packages/IPython/extensions/autoreload.py\", line 245, in check\n",
      "    superreload(m, reload, self.old_objects)\n",
      "  File \"/home/neill/anaconda3/lib/python3.7/site-packages/IPython/extensions/autoreload.py\", line 394, in superreload\n",
      "    module = reload(module)\n",
      "  File \"/home/neill/anaconda3/lib/python3.7/imp.py\", line 314, in reload\n",
      "    return importlib.reload(module)\n",
      "  File \"/home/neill/anaconda3/lib/python3.7/importlib/__init__.py\", line 169, in reload\n",
      "    _bootstrap._exec(spec, module)\n",
      "  File \"<frozen importlib._bootstrap>\", line 630, in _exec\n",
      "  File \"<frozen importlib._bootstrap_external>\", line 724, in exec_module\n",
      "  File \"<frozen importlib._bootstrap_external>\", line 860, in get_code\n",
      "  File \"<frozen importlib._bootstrap_external>\", line 791, in source_to_code\n",
      "  File \"<frozen importlib._bootstrap>\", line 219, in _call_with_frames_removed\n",
      "  File \"/mnt/d/github/qutip-heom/heom_fmotd.py\", line 395\n",
      "    if ode_use_mkl = False:\n",
      "                   ^\n",
      "SyntaxError: invalid syntax\n",
      "]\n"
     ]
    },
    {
     "ename": "KeyboardInterrupt",
     "evalue": "",
     "output_type": "error",
     "traceback": [
      "\u001b[0;31m---------------------------------------------------------------------------\u001b[0m",
      "\u001b[0;31mKeyboardInterrupt\u001b[0m                         Traceback (most recent call last)",
      "\u001b[0;32m<ipython-input-33-7afb02ca7763>\u001b[0m in \u001b[0;36m<module>\u001b[0;34m\u001b[0m\n\u001b[1;32m     29\u001b[0m \u001b[0;31m#tlist = np.linspace(0, 40, 600)\u001b[0m\u001b[0;34m\u001b[0m\u001b[0;34m\u001b[0m\u001b[0;34m\u001b[0m\u001b[0m\n\u001b[1;32m     30\u001b[0m \u001b[0;34m\u001b[0m\u001b[0m\n\u001b[0;32m---> 31\u001b[0;31m \u001b[0mresultFitT\u001b[0m \u001b[0;34m=\u001b[0m \u001b[0mHEOMFitT\u001b[0m\u001b[0;34m.\u001b[0m\u001b[0mrun\u001b[0m\u001b[0;34m(\u001b[0m\u001b[0mrho0\u001b[0m\u001b[0;34m,\u001b[0m \u001b[0mtlist\u001b[0m\u001b[0;34m)\u001b[0m\u001b[0;34m\u001b[0m\u001b[0;34m\u001b[0m\u001b[0m\n\u001b[0m\u001b[1;32m     32\u001b[0m \u001b[0;34m\u001b[0m\u001b[0m\n\u001b[1;32m     33\u001b[0m \u001b[0;31m# Define some operators with which we will measure the system\u001b[0m\u001b[0;34m\u001b[0m\u001b[0;34m\u001b[0m\u001b[0;34m\u001b[0m\u001b[0m\n",
      "\u001b[0;32m/mnt/d/github/qutip-heom/heom_fmotd.py\u001b[0m in \u001b[0;36mrun\u001b[0;34m(self, rho0, tlist)\u001b[0m\n\u001b[1;32m    533\u001b[0m         \u001b[0msolver\u001b[0m\u001b[0;34m.\u001b[0m\u001b[0mset_initial_value\u001b[0m\u001b[0;34m(\u001b[0m\u001b[0mrho0_he\u001b[0m\u001b[0;34m,\u001b[0m \u001b[0mtlist\u001b[0m\u001b[0;34m[\u001b[0m\u001b[0;36m0\u001b[0m\u001b[0;34m]\u001b[0m\u001b[0;34m)\u001b[0m\u001b[0;34m\u001b[0m\u001b[0;34m\u001b[0m\u001b[0m\n\u001b[1;32m    534\u001b[0m \u001b[0;34m\u001b[0m\u001b[0m\n\u001b[0;32m--> 535\u001b[0;31m         \u001b[0mdt\u001b[0m \u001b[0;34m=\u001b[0m \u001b[0mnp\u001b[0m\u001b[0;34m.\u001b[0m\u001b[0mdiff\u001b[0m\u001b[0;34m(\u001b[0m\u001b[0mtlist\u001b[0m\u001b[0;34m)\u001b[0m\u001b[0;34m\u001b[0m\u001b[0;34m\u001b[0m\u001b[0m\n\u001b[0m\u001b[1;32m    536\u001b[0m         \u001b[0mn_tsteps\u001b[0m \u001b[0;34m=\u001b[0m \u001b[0mlen\u001b[0m\u001b[0;34m(\u001b[0m\u001b[0mtlist\u001b[0m\u001b[0;34m)\u001b[0m\u001b[0;34m\u001b[0m\u001b[0;34m\u001b[0m\u001b[0m\n\u001b[1;32m    537\u001b[0m         \u001b[0;32mfor\u001b[0m \u001b[0mt_idx\u001b[0m\u001b[0;34m,\u001b[0m \u001b[0mt\u001b[0m \u001b[0;32min\u001b[0m \u001b[0menumerate\u001b[0m\u001b[0;34m(\u001b[0m\u001b[0mtlist\u001b[0m\u001b[0;34m)\u001b[0m\u001b[0;34m:\u001b[0m\u001b[0;34m\u001b[0m\u001b[0;34m\u001b[0m\u001b[0m\n",
      "\u001b[0;32m~/anaconda3/lib/python3.7/site-packages/scipy/integrate/_ode.py\u001b[0m in \u001b[0;36mintegrate\u001b[0;34m(self, t, step, relax)\u001b[0m\n\u001b[1;32m    430\u001b[0m             self._y, self.t = mth(self.f, self.jac or (lambda: None),\n\u001b[1;32m    431\u001b[0m                                   \u001b[0mself\u001b[0m\u001b[0;34m.\u001b[0m\u001b[0m_y\u001b[0m\u001b[0;34m,\u001b[0m \u001b[0mself\u001b[0m\u001b[0;34m.\u001b[0m\u001b[0mt\u001b[0m\u001b[0;34m,\u001b[0m \u001b[0mt\u001b[0m\u001b[0;34m,\u001b[0m\u001b[0;34m\u001b[0m\u001b[0;34m\u001b[0m\u001b[0m\n\u001b[0;32m--> 432\u001b[0;31m                                   self.f_params, self.jac_params)\n\u001b[0m\u001b[1;32m    433\u001b[0m         \u001b[0;32mexcept\u001b[0m \u001b[0mSystemError\u001b[0m\u001b[0;34m:\u001b[0m\u001b[0;34m\u001b[0m\u001b[0;34m\u001b[0m\u001b[0m\n\u001b[1;32m    434\u001b[0m             \u001b[0;31m# f2py issue with tuple returns, see ticket 1187.\u001b[0m\u001b[0;34m\u001b[0m\u001b[0;34m\u001b[0m\u001b[0;34m\u001b[0m\u001b[0m\n",
      "\u001b[0;32m~/anaconda3/lib/python3.7/site-packages/scipy/integrate/_ode.py\u001b[0m in \u001b[0;36mrun\u001b[0;34m(self, f, jac, y0, t0, t1, f_params, jac_params)\u001b[0m\n\u001b[1;32m   1002\u001b[0m         args = ((f, jac, y0, t0, t1) + tuple(self.call_args) +\n\u001b[1;32m   1003\u001b[0m                 (f_params, jac_params))\n\u001b[0;32m-> 1004\u001b[0;31m         \u001b[0my1\u001b[0m\u001b[0;34m,\u001b[0m \u001b[0mt\u001b[0m\u001b[0;34m,\u001b[0m \u001b[0mistate\u001b[0m \u001b[0;34m=\u001b[0m \u001b[0mself\u001b[0m\u001b[0;34m.\u001b[0m\u001b[0mrunner\u001b[0m\u001b[0;34m(\u001b[0m\u001b[0;34m*\u001b[0m\u001b[0margs\u001b[0m\u001b[0;34m)\u001b[0m\u001b[0;34m\u001b[0m\u001b[0;34m\u001b[0m\u001b[0m\n\u001b[0m\u001b[1;32m   1005\u001b[0m         \u001b[0mself\u001b[0m\u001b[0;34m.\u001b[0m\u001b[0mistate\u001b[0m \u001b[0;34m=\u001b[0m \u001b[0mistate\u001b[0m\u001b[0;34m\u001b[0m\u001b[0;34m\u001b[0m\u001b[0m\n\u001b[1;32m   1006\u001b[0m         \u001b[0;32mif\u001b[0m \u001b[0mistate\u001b[0m \u001b[0;34m<\u001b[0m \u001b[0;36m0\u001b[0m\u001b[0;34m:\u001b[0m\u001b[0;34m\u001b[0m\u001b[0;34m\u001b[0m\u001b[0m\n",
      "\u001b[0;31mKeyboardInterrupt\u001b[0m: "
     ]
    }
   ],
   "source": [
    "\n",
    "\n",
    "\n",
    "#do version with tanimura terminator\n",
    "\n",
    "op = -2*spre(Q)*spost(Q.dag()) + spre(Q.dag()*Q) + spost(Q.dag()*Q)\n",
    "\n",
    "approx_factr = ((2 * lam / (beta * gamma)) - 1j*lam) \n",
    "\n",
    "approx_factr -=  lam * gamma * (-1.0j + cot(gamma / (2 * T)))/gamma\n",
    "for k in range(1,lmaxmats):\n",
    "    vk = 2 * np.pi * k * T\n",
    "    #c_temp.append((pref * 4 * lam * gamma * T * vk / (vk**2 - gamma**2))  * np.exp(- vk * t) ) \n",
    "    approx_factr -= ((pref * 4 * lam * gamma * T * vk / (vk**2 - gamma**2))/ vk)\n",
    "    #approx_factr -= (c[k] / nu[k])\n",
    "L_bnd = -approx_factr*op\n",
    "print(approx_factr)\n",
    "Ltot = -1.0j*(spre(Hsys)-spost(Hsys)) + L_bnd\n",
    "Ltot = liouvillian(Hsys) + L_bnd\n",
    "\n",
    "NR = len(ckAR)\n",
    "NI = len(ckAI)\n",
    "Q2 = [Q for kk in range(NR+NI)]\n",
    "print(Q2)\n",
    "options = Options(nsteps=1500, store_states=True, rtol=1e-12, atol=1e-12, method=\"bdf\") \n",
    "\n",
    "HEOMFitT = BosonicHEOMSolver(Ltot, Q2, ckAR, ckAI, vkAR, vkAI, NC, options=options)\n",
    "\n",
    "# Initial state of the system.\n",
    "rho0 = basis(2,0) * basis(2,0).dag()   \n",
    "# Times to record state\n",
    "#tlist = np.linspace(0, 40, 600)\n",
    "\n",
    "resultFitT = HEOMFitT.run(rho0, tlist)\n",
    "\n",
    "# Define some operators with which we will measure the system\n",
    "# 1,1 element of density matrix - corresonding to groundstate\n",
    "P11p=basis(2,0) * basis(2,0).dag()\n",
    "P22p=basis(2,1) * basis(2,1).dag()\n",
    "# 1,2 element of density matrix  - corresonding to coherence\n",
    "P12p=basis(2,0) * basis(2,1).dag()\n",
    "# Calculate expectation values in the bases\n",
    "P11expFT = expect(resultFitT.states, P11p)\n",
    "P22expFT = expect(resultFitT.states, P22p)\n",
    "P12expFT = expect(resultFitT.states, P12p)\n"
   ]
  },
  {
   "cell_type": "code",
   "execution_count": 26,
   "metadata": {},
   "outputs": [],
   "source": [
    "qsave(resultMats, 'data/resultMatsOD')\n",
    "qsave(resultMatsT, 'data/resultMatsTOD')\n",
    "qsave(resultPade, 'data/resultPadeOD')\n",
    "qsave(resultFit, 'data/resultFitOD')\n",
    "##qsave(resultFitT, 'resultFitTOD')"
   ]
  },
  {
   "cell_type": "code",
   "execution_count": 25,
   "metadata": {},
   "outputs": [
    {
     "name": "stdout",
     "output_type": "stream",
     "text": [
      "Loaded Result object:\n",
      "Result object with hsolve data.\n",
      "-------------------------------\n",
      "states = True\n",
      "num_collapse = 0\n"
     ]
    }
   ],
   "source": [
    "\n",
    "resultFit = qload('data/resultFitOD')\n",
    "\n"
   ]
  },
  {
   "cell_type": "code",
   "execution_count": 27,
   "metadata": {},
   "outputs": [
    {
     "name": "stdout",
     "output_type": "stream",
     "text": [
      "(array([-0.1,  0.1]), array([Quantum object: dims = [[2], [1]], shape = (2, 1), type = ket\n",
      "Qobj data =\n",
      "[[-0.70710678]\n",
      " [ 0.70710678]],\n",
      "       Quantum object: dims = [[2], [1]], shape = (2, 1), type = ket\n",
      "Qobj data =\n",
      "[[0.70710678]\n",
      " [0.70710678]]], dtype=object))\n"
     ]
    }
   ],
   "source": [
    "print(Hsys.eigenstates())\n",
    "energies, states = Hsys.eigenstates()\n",
    "rhoss = (states[0]*states[0].dag()*exp(-beta*energies[0]) + states[1]*states[1].dag()*exp(-beta*energies[1]))\n",
    "rhoss = rhoss/rhoss.norm()\n",
    "\n",
    "P11 = expect(rhoss,P11p)\n",
    "P12 = expect(rhoss,P12p)"
   ]
  },
  {
   "cell_type": "code",
   "execution_count": 28,
   "metadata": {},
   "outputs": [],
   "source": [
    "DL = \" 2*pi* 2.0 * {lam} / (pi * {gamma} * {beta})  if (w==0) else 2*pi*(2.0*{lam}*{gamma} *w /(pi*(w**2+{gamma}**2))) * ((1/(exp((w) * {beta})-1))+1)\".format(gamma=gamma, beta = beta, lam = lam)\n",
    "\n",
    "optionsODE = Options(nsteps=15000, store_states=True,rtol=1e-12,atol=1e-12)\n",
    "outputBR  =  brmesolve(Hsys, rho0, tlist, a_ops=[[sigmaz(),DL]], options = optionsODE)\n",
    "\n",
    "\n",
    "# Calculate expectation values in the bases\n",
    "P11BR = expect(outputBR.states, P11p)\n",
    "P22BR = expect(outputBR.states, P22p)\n",
    "P12BR = expect(outputBR.states, P12p)"
   ]
  },
  {
   "cell_type": "code",
   "execution_count": 29,
   "metadata": {},
   "outputs": [],
   "source": [
    "matplotlib.rcParams['figure.figsize'] = (7, 5)\n",
    "matplotlib.rcParams['axes.titlesize'] = 25\n",
    "matplotlib.rcParams['axes.labelsize'] = 30\n",
    "matplotlib.rcParams['xtick.labelsize'] = 28\n",
    "matplotlib.rcParams['ytick.labelsize'] = 28\n",
    "matplotlib.rcParams['legend.fontsize'] = 28\n",
    "matplotlib.rcParams['axes.grid'] = False\n",
    "matplotlib.rcParams['savefig.bbox'] = 'tight'\n",
    "matplotlib.rcParams['lines.markersize'] = 5\n",
    "matplotlib.rcParams['font.family'] = 'STIXgeneral' \n",
    "matplotlib.rcParams['mathtext.fontset'] =  'stix'\n",
    "matplotlib.rcParams[\"font.serif\"] = \"STIX\"\n",
    "matplotlib.rcParams['text.usetex']=False"
   ]
  },
  {
   "cell_type": "code",
   "execution_count": 30,
   "metadata": {},
   "outputs": [
    {
     "data": {
      "image/png": "[encoded data removed]",
      "text/plain": [
       "<Figure size 864x504 with 1 Axes>"
      ]
     },
     "metadata": {
      "needs_background": "light"
     },
     "output_type": "display_data"
    }
   ],
   "source": [
    "# Define some operators with which we will measure the system\n",
    "# 1,1 element of density matrix - corresonding to groundstate\n",
    "P11p=basis(2,0) * basis(2,0).dag()\n",
    "P22p=basis(2,1) * basis(2,1).dag()\n",
    "# 1,2 element of density matrix  - corresonding to coherence\n",
    "P12p=basis(2,0) * basis(2,1).dag()\n",
    "# Calculate expectation values in the bases\n",
    "P11expF = expect(resultFit.states, P11p)\n",
    "P22expF = expect(resultFit.states, P22p)\n",
    "P12expF = expect(resultFit.states, P12p)\n",
    "\n",
    "# Plot the results\n",
    "fig, axes = plt.subplots(1, 1, sharex=True, figsize=(12,7))\n",
    "plt.yticks([0.99,1.0],[0.99,1])\n",
    "axes.plot(tlist, np.real(P11exp), 'b', linewidth=2, label=r\"Matsubara $N_k=1$\")\n",
    "axes.plot(tlist, np.real(P11expT), 'g--', linewidth=3, label=r\"Matsubara $N_k=1$ & terminator\")\n",
    "axes.plot(tlist, np.real(P11expP), 'y-.', linewidth=2, label=r\"Padé $N_k=1$\")\n",
    "#axes.plot(tlist, np.real(P11BR), 'y-.', linewidth=2, label=\"Bloch Redfield\")\n",
    "axes.plot(tlist, np.real(P11expF), 'r',dashes=[3,2], linewidth=2, label=r\"Fit $N_f = 3$, $N_k=15 \\times 10^3$\")\n",
    "\n",
    "axes.locator_params(axis='y', nbins=6)\n",
    "axes.locator_params(axis='x', nbins=6)\n",
    "axes.set_ylabel(r'$\\rho_{11}$',fontsize=30)\n",
    "\n",
    "axes.set_xlabel(r'$t\\;\\gamma$',fontsize=30)\n",
    "axes.set_xlim(tlist[0],tlist[-1])\n",
    "axes.set_ylim(0.98405,1.0005)\n",
    "axes.legend(loc=0)\n",
    "fig.savefig(\"figures/fig2.pdf\")"
   ]
  },
  {
   "cell_type": "code",
   "execution_count": 31,
   "metadata": {},
   "outputs": [
    {
     "data": {
      "text/html": [
       "<table><tr><th>Software</th><th>Version</th></tr><tr><td>QuTiP</td><td>4.6.0.dev0</td></tr><tr><td>Numpy</td><td>1.18.5</td></tr><tr><td>SciPy</td><td>1.5.0</td></tr><tr><td>matplotlib</td><td>3.2.2</td></tr><tr><td>Cython</td><td>0.29.21</td></tr><tr><td>Number of CPUs</td><td>8</td></tr><tr><td>BLAS Info</td><td>INTEL MKL</td></tr><tr><td>IPython</td><td>7.16.1</td></tr><tr><td>Python</td><td>3.8.3 (default, Jul  2 2020, 16:21:59) \n",
       "[GCC 7.3.0]</td></tr><tr><td>OS</td><td>posix [linux]</td></tr><tr><td colspan='2'>Tue Oct 20 11:26:47 2020 JST</td></tr></table>"
      ],
      "text/plain": [
       "<IPython.core.display.HTML object>"
      ]
     },
     "execution_count": 31,
     "metadata": {},
     "output_type": "execute_result"
    }
   ],
   "source": [
    "from qutip.ipynbtools import version_table\n",
    "\n",
    "version_table()"
   ]
  },
  {
   "cell_type": "code",
   "execution_count": null,
   "metadata": {},
   "outputs": [],
   "source": []
  }
 ],
 "metadata": {
  "anaconda-cloud": {},
  "kernelspec": {
   "display_name": "Python 3",
   "language": "python",
   "name": "python3"
  },
  "language_info": {
   "codemirror_mode": {
    "name": "ipython",
    "version": 3
   },
   "file_extension": ".py",
   "mimetype": "text/x-python",
   "name": "python",
   "nbconvert_exporter": "python",
   "pygments_lexer": "ipython3",
   "version": "3.8.3"
  }
 },
 "nbformat": 4,
 "nbformat_minor": 1
}
