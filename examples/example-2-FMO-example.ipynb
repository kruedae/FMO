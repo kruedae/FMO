{
 "cells": [
  {
   "cell_type": "markdown",
   "metadata": {},
   "source": [
    "### Introduction"
   ]
  },
  {
   "cell_type": "markdown",
   "metadata": {},
   "source": [
    "In this example notebook we outline how to employ the HEOM to \n",
    "solve the FMO photosynthetic complex dynamics. \n",
    "\n",
    "\n",
    "We aim to replicate the results in reference https://www.pnas.org/content/106/41/17255\n",
    "and compare them to a Bloch-Redfield (perturbative) solution.\n"
   ]
  },
  {
   "cell_type": "code",
   "execution_count": 1,
   "metadata": {},
   "outputs": [
    {
     "name": "stdout",
     "output_type": "stream",
     "text": [
      "Populating the interactive namespace from numpy and matplotlib\n"
     ]
    },
    {
     "ename": "ModuleNotFoundError",
     "evalue": "No module named 'qutip'",
     "output_type": "error",
     "traceback": [
      "\u001b[0;31m---------------------------------------------------------------------------\u001b[0m",
      "\u001b[0;31mModuleNotFoundError\u001b[0m                       Traceback (most recent call last)",
      "\u001b[0;32m<ipython-input-1-39915e3f7ba5>\u001b[0m in \u001b[0;36m<module>\u001b[0;34m\u001b[0m\n\u001b[1;32m      1\u001b[0m \u001b[0mget_ipython\u001b[0m\u001b[0;34m(\u001b[0m\u001b[0;34m)\u001b[0m\u001b[0;34m.\u001b[0m\u001b[0mrun_line_magic\u001b[0m\u001b[0;34m(\u001b[0m\u001b[0;34m'pylab'\u001b[0m\u001b[0;34m,\u001b[0m \u001b[0;34m'inline'\u001b[0m\u001b[0;34m)\u001b[0m\u001b[0;34m\u001b[0m\u001b[0;34m\u001b[0m\u001b[0m\n\u001b[0;32m----> 2\u001b[0;31m \u001b[0;32mfrom\u001b[0m \u001b[0mqutip\u001b[0m \u001b[0;32mimport\u001b[0m \u001b[0;34m*\u001b[0m\u001b[0;34m\u001b[0m\u001b[0;34m\u001b[0m\u001b[0m\n\u001b[0m",
      "\u001b[0;31mModuleNotFoundError\u001b[0m: No module named 'qutip'"
     ]
    }
   ],
   "source": [
    "%pylab inline\n",
    "from qutip import *"
   ]
  },
  {
   "cell_type": "code",
   "execution_count": null,
   "metadata": {},
   "outputs": [],
   "source": [
    "from qutip.ipynbtools import HTMLProgressBar"
   ]
  },
  {
   "cell_type": "code",
   "execution_count": null,
   "metadata": {},
   "outputs": [],
   "source": [
    "%load_ext autoreload\n",
    "%autoreload 2"
   ]
  },
  {
   "cell_type": "code",
   "execution_count": null,
   "metadata": {},
   "outputs": [],
   "source": [
    "\n",
    "from bofin.heom import BosonicHEOMSolver"
   ]
  },
  {
   "cell_type": "code",
   "execution_count": null,
   "metadata": {},
   "outputs": [],
   "source": [
    "\n",
    "def cot(x):\n",
    "    return 1./np.tan(x)\n",
    "\n",
    "def c(t):\n",
    "    c_temp =[]\n",
    "    c_temp.append(lam * gamma * (-1.0j + cot(gamma / (2 * T))) * np.exp(-gamma * t))\n",
    "    for k in range(1,5):\n",
    "        vk = 2 * np.pi * k * T\n",
    "        c_temp.append( (4 * lam * gamma * T * vk / (vk**2 - gamma**2))  * np.exp(- vk * t) ) \n",
    "    return c_temp\n",
    "\n",
    "def J0(energy):\n",
    "    #underdamped brownian oscillator\n",
    "\n",
    "    return 2 * lam * gamma * (energy)/( ((energy**2) + (gamma**2)))\n",
    "\n"
   ]
  },
  {
   "cell_type": "code",
   "execution_count": null,
   "metadata": {},
   "outputs": [],
   "source": [
    "#A quick plot of the spectral density and environment correlation functions\n",
    "\n",
    "\n",
    "wlist = linspace(0, 200*3e10*2*pi,100)\n",
    "lam = 35 * 3e10 * 2 * pi\n",
    "gamma = (1/(166e-15))\n",
    "T = 300 * 0.6949 * 3e10 * 2 * pi\n",
    "\n",
    "beta = 1/T\n",
    "\n",
    "#gamma = 1.0\n",
    "\n",
    "#lam = 2.5/2.\n",
    "\n",
    "#T = 1/0.95\n",
    "tlist = linspace(0,1.e-12,1000)\n",
    "\n",
    "\n",
    "J = [J0(w)/(3e10*2*pi) for w in wlist]\n",
    "\n",
    "\n",
    "fig, axes = plt.subplots(1, 2, sharex=False, figsize=(10,3))\n",
    "\n",
    "fig.subplots_adjust(hspace=0.1) # reduce space between plots\n",
    "\n",
    "axes[0].plot(wlist/(3e10*2*pi), J, color='r',ls='--')\n",
    "axes[0].set_xlabel(r'$\\omega$ (cm$^{-1}$)', fontsize=20)\n",
    "axes[0].set_ylabel(r\"$J(\\omega)$ (cm$^{-1}$)\", fontsize=16);\n",
    "axes[1].plot(tlist, [np.real(sum(c(t))) for t in tlist], color='r',ls='--',label=\"c(t) real\")\n",
    "axes[1].plot(tlist, [np.imag(sum(c(t))) for t in tlist], color='g',ls='--',label=\"c(t) imaginary\")\n",
    "axes[1].plot(tlist, [c(t)[0] for t in tlist], color='b',ls='--',label=\"k=0 real\")\n",
    "axes[1].plot(tlist, [c(t)[1] for t in tlist], color='y',ls='--',label=\"k=1 real\")\n",
    "axes[1].set_xlabel(r'$t$', fontsize=20)\n",
    "axes[1].set_ylabel(r\"$C(t)$\", fontsize=16);\n",
    "\n",
    "axes[1].legend(loc=0)\n",
    "\n",
    "fig.savefig(\"figures/drude.pdf\")"
   ]
  },
  {
   "cell_type": "code",
   "execution_count": null,
   "metadata": {},
   "outputs": [],
   "source": [
    "\n",
    "\n",
    "#We use the Hamiltonian employed in  https://www.pnas.org/content/106/41/17255 and operate in units of Hz\n",
    "Hsys =  3e10 * 2 * pi *Qobj([[200, -87.7, 5.5, -5.9, 6.7, -13.7, -9.9],\n",
    "                    [-87.7, 320, 30.8, 8.2, 0.7, 11.8, 4.3],\n",
    "                    [5.5, 30.8, 0, -53.5, -2.2, -9.6, 6.0],\n",
    "                    [-5.9, 8.2, -53.5, 110, -70.7, -17.0, -63.3],\n",
    "                    [6.7, 0.7, -2.2, -70.7, 270, 81.1, -1.3],\n",
    "                    [-13.7,11.8, -9.6, -17.0 ,81.1, 420, 39.7],\n",
    "                    [-9.9, 4.3, 6.0, -63.3, -1.3, 39.7, 230]])\n",
    "\n",
    "\n",
    "#start the excitation at site :1:\n",
    "rho0 = basis(7,0)*basis(7,0).dag() \n",
    "\n",
    "optionsODE = Options(nsteps=15000, store_states=True,rtol=1e-17,atol=1e-17)\n",
    "#\n",
    "Nc = 8\n",
    "\n",
    "Nk = 0\n",
    "\n",
    "\n",
    "pref = 1\n",
    "\n",
    "ckAR = [pref * lam * gamma * (cot(gamma / (2 * T))) + 0.j]\n",
    "ckAR.extend([(pref * 4 * lam * gamma * T *  2 * np.pi * k * T / (( 2 * np.pi * k * T)**2 - gamma**2))+0.j for k in range(1,Nk+1)])\n",
    "\n",
    "vkAR = [gamma+0.j]\n",
    "vkAR.extend([2 * np.pi * k * T + 0.j for k in range(1,Nk+1)])\n",
    "\n",
    "ckAI = [pref * lam * gamma * (-1.0) + 0.j]\n",
    "\n",
    "vkAI = [gamma+0.j]\n",
    "\n",
    "print(ckAR)\n",
    "print(ckAI)\n",
    "print(vkAR)\n",
    "print(vkAI)\n",
    "\n",
    "\n",
    "\n",
    "NR = len(ckAR)\n",
    "NI = len(ckAI)\n",
    "Q2 = []\n",
    "ckAR2 = []\n",
    "ckAI2 = []\n",
    "vkAR2 = []\n",
    "vkAI2 = []\n",
    "for m in range(7):\n",
    "    Q2.extend([ basis(7,m)*basis(7,m).dag() for kk in range(NR)])\n",
    "    ckAR2.extend(ckAR)    \n",
    "    vkAR2.extend(vkAR)\n",
    "   \n",
    "for m in range(7):\n",
    "    Q2.extend([ basis(7,m)*basis(7,m).dag() for kk in range(NI)])\n",
    "    ckAI2.extend(ckAI)\n",
    "    vkAI2.extend(vkAI)\n",
    "    \n",
    "\n",
    "\n",
    "options = Options(nsteps=15000, store_states=True, rtol=1e-14, atol=1e-14)\n",
    "\n",
    "\n",
    "HEOMMats = BosonicHEOMSolver(Hsys, Q2, ckAR2, ckAI2, vkAR2, vkAI2, Nc, options=options)\n",
    "outputFMOHEOM=HEOMMats.run(rho0,tlist)\n"
   ]
  },
  {
   "cell_type": "code",
   "execution_count": null,
   "metadata": {},
   "outputs": [],
   "source": [
    "\n",
    "#Add Tanimura Terminator, vital to get convergence here.\n",
    "\n",
    "NR = len(ckAR)\n",
    "NI = len(ckAI)\n",
    "Q2 = []\n",
    "ckAR2 = []\n",
    "ckAI2 = []\n",
    "vkAR2 = []\n",
    "vkAI2 = []\n",
    "for m in range(7):\n",
    "    Q2.extend([ basis(7,m)*basis(7,m).dag() for kk in range(NR)])\n",
    "    ckAR2.extend(ckAR)    \n",
    "    vkAR2.extend(vkAR)\n",
    "   \n",
    "for m in range(7):\n",
    "    Q2.extend([ basis(7,m)*basis(7,m).dag() for kk in range(NI)])\n",
    "    ckAI2.extend(ckAI)\n",
    "    vkAI2.extend(vkAI)\n",
    "    \n",
    "\n",
    "\n",
    "Q_list=[basis(7,m)*basis(7,m).dag() for m in range(7)]\n",
    "L_bnd = 0.0*spre(Q_list[0])*spost(Q_list[0].dag())\n",
    "for Q1 in Q_list:\n",
    "    op = -2*spre(Q1)*spost(Q1.dag()) + spre(Q1.dag()*Q1) + spost(Q1.dag()*Q1)\n",
    "\n",
    "    approx_factr = ((2 * lam / (beta * gamma)) - 1j*lam) \n",
    "\n",
    "    approx_factr -=  lam * gamma * (-1.0j + cot(gamma / (2 * T)))/gamma\n",
    "    for k in range(1,Nk+1):\n",
    "        vk = 2 * np.pi * k * T\n",
    "\n",
    "        approx_factr -= ((pref * 4 * lam * gamma * T * vk / (vk**2 - gamma**2))/ vk)\n",
    "\n",
    "    L_bnd += -approx_factr*op\n",
    "\n",
    "\n",
    "Ltot = liouvillian(Hsys) + L_bnd\n",
    "\n",
    "\n",
    "HEOMMats = BosonicHEOMSolver(Ltot, Q2, ckAR2, ckAI2, vkAR2, vkAI2, Nc, options=options)\n",
    "outputFMOHEOMT=HEOMMats.run(rho0,tlist)\n"
   ]
  },
  {
   "cell_type": "code",
   "execution_count": null,
   "metadata": {},
   "outputs": [],
   "source": [
    "matplotlib.rcParams['figure.figsize'] = (7, 5)\n",
    "matplotlib.rcParams['axes.titlesize'] = 25\n",
    "matplotlib.rcParams['axes.labelsize'] = 30\n",
    "matplotlib.rcParams['xtick.labelsize'] = 28\n",
    "matplotlib.rcParams['ytick.labelsize'] = 28\n",
    "matplotlib.rcParams['legend.fontsize'] = 28\n",
    "matplotlib.rcParams['axes.grid'] = False\n",
    "matplotlib.rcParams['savefig.bbox'] = 'tight'\n",
    "matplotlib.rcParams['lines.markersize'] = 5\n",
    "matplotlib.rcParams['font.family'] = 'STIXgeneral' \n",
    "matplotlib.rcParams['mathtext.fontset'] =  'stix'\n",
    "matplotlib.rcParams[\"font.serif\"] = \"STIX\"\n",
    "matplotlib.rcParams['text.usetex'] = False"
   ]
  },
  {
   "cell_type": "code",
   "execution_count": null,
   "metadata": {},
   "outputs": [],
   "source": [
    "from cycler import cycler"
   ]
  },
  {
   "cell_type": "code",
   "execution_count": null,
   "metadata": {},
   "outputs": [],
   "source": [
    "fig, axes = plt.subplots(1,1, figsize=(12,8))\n",
    "\n",
    "default_cycler = (cycler(color=['r', 'g', 'b', 'y','c','m','k']) +\n",
    "                  cycler(linestyle=['-', '--', ':', '-.',(0, (1, 10)), (0, (5, 10)),(0, (3, 10, 1, 10))]))\n",
    "plt.rc('axes',prop_cycle=default_cycler )\n",
    "\n",
    "for m in range(7):\n",
    "    Q =  basis(7,m)*basis(7,m).dag()\n",
    "    axes.plot(array(tlist)*1e15, expect(outputFMOHEOMT.states,Q),label=m+1)    \n",
    "axes.set_xlabel(r'$t$ (fs)', fontsize=30)\n",
    "axes.set_ylabel(r\"Population\", fontsize=30);\n",
    "axes.locator_params(axis='y', nbins=6)\n",
    "axes.locator_params(axis='x', nbins=6)\n",
    "\n",
    "axes.set_title('HEOM solution ',fontsize=24)\n",
    "axes.legend(loc=0)\n",
    "axes.set_xlim(0,1000)\n",
    "plt.yticks([0.,0.5,1],[0,0.5,1])\n",
    "plt.xticks([0.,500,1000],[0,500,1000])\n",
    "fig.savefig(\"figures/fmoheom.pdf\")\n"
   ]
  },
  {
   "cell_type": "code",
   "execution_count": null,
   "metadata": {},
   "outputs": [],
   "source": [
    "\n",
    "DL = \" 2*pi* 2.0 * {lam} / (pi * {gamma} * {beta})  if (w==0) else 2*pi*(2.0*{lam}*{gamma} *w /(pi*(w**2+{gamma}**2))) * ((1/(exp((w) * {beta})-1))+1)\".format(gamma=gamma, beta = beta, lam = lam)\n",
    "\n",
    "\n",
    "Nmax = 7\n",
    "Q_list = [basis(Nmax, n)*basis(Nmax, n).dag() for n in range(Nmax)]\n",
    "\n",
    "optionsODE = Options(nsteps=15000, store_states=True,rtol=1e-12,atol=1e-12)\n",
    "outputBR  =  brmesolve(Hsys, rho0, tlist, a_ops=[[Q,DL] for Q in Q_list], options = optionsODE)\n",
    "\n",
    "\n",
    "fig, axes = plt.subplots(1,1, figsize=(12,8))\n",
    "for m,Q in enumerate(Q_list):\n",
    "    axes.plot(array(tlist)*1e15, expect(outputBR.states,Q),label=m+1)\n",
    "\n",
    "axes.set_xlabel(r'$t$ (fs)', fontsize=30)\n",
    "axes.set_ylabel(r\"Population\", fontsize=30);\n",
    "\n",
    "axes.set_title('Bloch-Redfield solution ',fontsize=24)\n",
    "axes.legend(loc=0)\n",
    "axes.set_xlim(0,1000)\n",
    "plt.yticks([0.,0.5,1],[0,0.5,1])\n",
    "plt.xticks([0.,500,1000],[0,500,1000])\n",
    "fig.savefig(\"figures/fmoBR.pdf\")"
   ]
  },
  {
   "cell_type": "markdown",
   "metadata": {},
   "source": [
    "### Software versions"
   ]
  },
  {
   "cell_type": "code",
   "execution_count": null,
   "metadata": {},
   "outputs": [],
   "source": [
    "from qutip.ipynbtools import version_table\n",
    "\n",
    "version_table()"
   ]
  },
  {
   "cell_type": "code",
   "execution_count": null,
   "metadata": {},
   "outputs": [],
   "source": []
  }
 ],
 "metadata": {
  "anaconda-cloud": {},
  "kernelspec": {
   "display_name": "Python 3",
   "language": "python",
   "name": "python3"
  },
  "language_info": {
   "codemirror_mode": {
    "name": "ipython",
    "version": 3
   },
   "file_extension": ".py",
   "mimetype": "text/x-python",
   "name": "python",
   "nbconvert_exporter": "python",
   "pygments_lexer": "ipython3",
   "version": "3.8.10"
  }
 },
 "nbformat": 4,
 "nbformat_minor": 1
}
